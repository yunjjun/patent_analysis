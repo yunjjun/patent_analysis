{
 "cells": [
  {
   "cell_type": "markdown",
   "metadata": {},
   "source": [
    "#### WISDOMAIN 데이터 기반 특허 분석 실습"
   ]
  },
  {
   "cell_type": "markdown",
   "metadata": {},
   "source": [
    "##### 1. 데이터 준비"
   ]
  },
  {
   "cell_type": "code",
   "execution_count": 70,
   "metadata": {},
   "outputs": [
    {
     "data": {
      "text/html": [
       "        <script type=\"text/javascript\">\n",
       "        window.PlotlyConfig = {MathJaxConfig: 'local'};\n",
       "        if (window.MathJax && window.MathJax.Hub && window.MathJax.Hub.Config) {window.MathJax.Hub.Config({SVG: {font: \"STIX-Web\"}});}\n",
       "        if (typeof require !== 'undefined') {\n",
       "        require.undef(\"plotly\");\n",
       "        requirejs.config({\n",
       "            paths: {\n",
       "                'plotly': ['https://cdn.plot.ly/plotly-2.12.1.min']\n",
       "            }\n",
       "        });\n",
       "        require(['plotly'], function(Plotly) {\n",
       "            window._Plotly = Plotly;\n",
       "        });\n",
       "        }\n",
       "        </script>\n",
       "        "
      ]
     },
     "metadata": {},
     "output_type": "display_data"
    }
   ],
   "source": [
    "import numpy as np # linear algebra\n",
    "import pandas as pd # data processing, CSV file I/O (e.g. pd.read_csv)\n",
    "import seaborn as sns\n",
    "import matplotlib.pyplot as plt\n",
    "%matplotlib inline\n",
    "\n",
    "# Import statements required for Plotly \n",
    "import plotly.offline as py\n",
    "py.init_notebook_mode(connected=True)\n",
    "import plotly.graph_objs as go\n",
    "import plotly.tools as tls\n",
    "\n",
    "# Import and suppress warnings\n",
    "import warnings\n",
    "warnings.filterwarnings('ignore')"
   ]
  },
  {
   "cell_type": "code",
   "execution_count": 71,
   "metadata": {},
   "outputs": [
    {
     "data": {
      "text/html": [
       "<div>\n",
       "<style scoped>\n",
       "    .dataframe tbody tr th:only-of-type {\n",
       "        vertical-align: middle;\n",
       "    }\n",
       "\n",
       "    .dataframe tbody tr th {\n",
       "        vertical-align: top;\n",
       "    }\n",
       "\n",
       "    .dataframe thead th {\n",
       "        text-align: right;\n",
       "    }\n",
       "</style>\n",
       "<table border=\"1\" class=\"dataframe\">\n",
       "  <thead>\n",
       "    <tr style=\"text-align: right;\">\n",
       "      <th></th>\n",
       "      <th>번호</th>\n",
       "      <th>명칭</th>\n",
       "      <th>요약</th>\n",
       "      <th>출원번호</th>\n",
       "      <th>출원일</th>\n",
       "      <th>출원인</th>\n",
       "      <th>출원인국가</th>\n",
       "      <th>출원인대표명</th>\n",
       "      <th>현재소유자</th>\n",
       "      <th>발명자</th>\n",
       "      <th>...</th>\n",
       "      <th>자국인용특허</th>\n",
       "      <th>외국인용특허</th>\n",
       "      <th>자국피인용특허</th>\n",
       "      <th>자국인용횟수</th>\n",
       "      <th>자국피인용횟수</th>\n",
       "      <th>특허평가등급</th>\n",
       "      <th>특허평가점수</th>\n",
       "      <th>발명자수</th>\n",
       "      <th>통상실시권자</th>\n",
       "      <th>전용실시권자</th>\n",
       "    </tr>\n",
       "  </thead>\n",
       "  <tbody>\n",
       "    <tr>\n",
       "      <th>0</th>\n",
       "      <td>KR20170166288A</td>\n",
       "      <td>가상 화폐 담보 대출 금융 기술 서비스 방법 및 그 장치{METHOD FOR VER...</td>\n",
       "      <td>가상 화폐 담보 대출 금융 기술 서비스 방법에서는 금융 기술 서비스 장치가 각 거래...</td>\n",
       "      <td>KR20170166288A</td>\n",
       "      <td>2017.12.05</td>\n",
       "      <td>김해동</td>\n",
       "      <td>KR</td>\n",
       "      <td>김해동</td>\n",
       "      <td>김계옥</td>\n",
       "      <td>김해동</td>\n",
       "      <td>...</td>\n",
       "      <td>KR20110010207A,KR20170040727A,KR20170130049A</td>\n",
       "      <td>크립토코인 게시물,크립토코인 관련 20171112</td>\n",
       "      <td>KR20210083554A,KR20220049753A</td>\n",
       "      <td>3</td>\n",
       "      <td>2</td>\n",
       "      <td>A0</td>\n",
       "      <td>7.0</td>\n",
       "      <td>1</td>\n",
       "      <td>NaN</td>\n",
       "      <td>NaN</td>\n",
       "    </tr>\n",
       "  </tbody>\n",
       "</table>\n",
       "<p>1 rows × 29 columns</p>\n",
       "</div>"
      ],
      "text/plain": [
       "               번호                                                 명칭  \\\n",
       "0  KR20170166288A  가상 화폐 담보 대출 금융 기술 서비스 방법 및 그 장치{METHOD FOR VER...   \n",
       "\n",
       "                                                  요약            출원번호  \\\n",
       "0  가상 화폐 담보 대출 금융 기술 서비스 방법에서는 금융 기술 서비스 장치가 각 거래...  KR20170166288A   \n",
       "\n",
       "          출원일  출원인 출원인국가 출원인대표명 현재소유자  발명자  ...  \\\n",
       "0  2017.12.05  김해동    KR    김해동   김계옥  김해동  ...   \n",
       "\n",
       "                                         자국인용특허                       외국인용특허  \\\n",
       "0  KR20110010207A,KR20170040727A,KR20170130049A  크립토코인 게시물,크립토코인 관련 20171112   \n",
       "\n",
       "                         자국피인용특허 자국인용횟수 자국피인용횟수  특허평가등급  특허평가점수 발명자수 통상실시권자  \\\n",
       "0  KR20210083554A,KR20220049753A      3       2      A0     7.0    1    NaN   \n",
       "\n",
       "  전용실시권자  \n",
       "0    NaN  \n",
       "\n",
       "[1 rows x 29 columns]"
      ]
     },
     "execution_count": 71,
     "metadata": {},
     "output_type": "execute_result"
    }
   ],
   "source": [
    "# WISDOMAIN 원본 데이터 확인\n",
    "rawdata = pd.read_csv('../data/rawdata_q5.csv')\n",
    "rawdata.head(1)"
   ]
  },
  {
   "cell_type": "code",
   "execution_count": 72,
   "metadata": {},
   "outputs": [
    {
     "data": {
      "text/plain": [
       "Index(['번호', '명칭', '요약', '출원번호', '출원일', '출원인', '출원인국가', '출원인대표명', '현재소유자',\n",
       "       '발명자', '발명자국가', '독립 청구항수', '전체 청구항수', '대표 청구항', '전체 청구항', '명칭(원문)',\n",
       "       '요약(원문)', '국제특허분류', '공통특허분류', '자국인용특허', '외국인용특허', '자국피인용특허', '자국인용횟수',\n",
       "       '자국피인용횟수', '특허평가등급', '특허평가점수', '발명자수', '통상실시권자', '전용실시권자'],\n",
       "      dtype='object')"
      ]
     },
     "execution_count": 72,
     "metadata": {},
     "output_type": "execute_result"
    }
   ],
   "source": [
    "# 컬럼명 확인\n",
    "rawdata.columns"
   ]
  },
  {
   "cell_type": "code",
   "execution_count": 73,
   "metadata": {},
   "outputs": [
    {
     "name": "stdout",
     "output_type": "stream",
     "text": [
      "<class 'pandas.core.frame.DataFrame'>\n",
      "RangeIndex: 536 entries, 0 to 535\n",
      "Data columns (total 17 columns):\n",
      " #   Column   Non-Null Count  Dtype \n",
      "---  ------   --------------  ----- \n",
      " 0   번호       536 non-null    object\n",
      " 1   명칭       536 non-null    object\n",
      " 2   요약       536 non-null    object\n",
      " 3   출원일      536 non-null    object\n",
      " 4   출원인      536 non-null    object\n",
      " 5   독립 청구항수  536 non-null    int64 \n",
      " 6   전체 청구항수  536 non-null    int64 \n",
      " 7   국제특허분류   536 non-null    object\n",
      " 8   자국인용특허   451 non-null    object\n",
      " 9   외국인용특허   133 non-null    object\n",
      " 10  자국피인용특허  266 non-null    object\n",
      " 11  자국인용횟수   536 non-null    int64 \n",
      " 12  자국피인용횟수  536 non-null    int64 \n",
      " 13  특허평가등급   264 non-null    object\n",
      " 14  발명자수     536 non-null    int64 \n",
      " 15  발명자국가    536 non-null    object\n",
      " 16  출원인대표명   532 non-null    object\n",
      "dtypes: int64(5), object(12)\n",
      "memory usage: 71.3+ KB\n",
      "None\n"
     ]
    }
   ],
   "source": [
    "# 필요한 컬럼들 정의\n",
    "target_cols = ['번호','명칭','요약','출원일','출원인','독립 청구항수','전체 청구항수',\n",
    "               '국제특허분류','자국인용특허', '외국인용특허', '자국피인용특허', '자국인용횟수', \n",
    "               '자국피인용횟수','특허평가등급', '발명자수','발명자국가','출원인대표명']\n",
    "dataset = rawdata[target_cols]\n",
    "print(dataset.info())"
   ]
  },
  {
   "cell_type": "code",
   "execution_count": 74,
   "metadata": {},
   "outputs": [],
   "source": [
    "# 연도가 없는 데이터 삭제\n",
    "dataset.dropna(subset = [\"출원일\"], inplace=True)"
   ]
  },
  {
   "cell_type": "code",
   "execution_count": 75,
   "metadata": {},
   "outputs": [
    {
     "name": "stdout",
     "output_type": "stream",
     "text": [
      "<class 'pandas.core.frame.DataFrame'>\n",
      "Int64Index: 536 entries, 0 to 535\n",
      "Data columns (total 17 columns):\n",
      " #   Column   Non-Null Count  Dtype \n",
      "---  ------   --------------  ----- \n",
      " 0   번호       536 non-null    object\n",
      " 1   명칭       536 non-null    object\n",
      " 2   요약       536 non-null    object\n",
      " 3   출원일      536 non-null    object\n",
      " 4   출원인      536 non-null    object\n",
      " 5   독립 청구항수  536 non-null    int64 \n",
      " 6   전체 청구항수  536 non-null    int64 \n",
      " 7   국제특허분류   536 non-null    object\n",
      " 8   자국인용특허   451 non-null    object\n",
      " 9   외국인용특허   133 non-null    object\n",
      " 10  자국피인용특허  266 non-null    object\n",
      " 11  자국인용횟수   536 non-null    int64 \n",
      " 12  자국피인용횟수  536 non-null    int64 \n",
      " 13  특허평가등급   264 non-null    object\n",
      " 14  발명자수     536 non-null    int64 \n",
      " 15  발명자국가    536 non-null    object\n",
      " 16  출원인대표명   532 non-null    object\n",
      "dtypes: int64(5), object(12)\n",
      "memory usage: 75.4+ KB\n",
      "None\n"
     ]
    }
   ],
   "source": [
    "print(dataset.info())"
   ]
  },
  {
   "cell_type": "code",
   "execution_count": 76,
   "metadata": {},
   "outputs": [],
   "source": [
    "def change_ipc(row):\n",
    "    ipcs = [ipc.split('/')[0].split('-') for ipc in [item.strip() for item in row]]\n",
    "    ipcs_revised = list(set([f\"{each_ipc[0]}{each_ipc[1][1:]}\" for each_ipc in ipcs]))\n",
    "    res = [f\"{ipc_revised[:-2]}{ipc_revised[-1]}\" if ipc_revised[-2]=='0' else ipc_revised for ipc_revised in ipcs_revised ]\n",
    "    return res\n",
    "\n",
    "def count_len(row):\n",
    "    if type(row) == list:\n",
    "        return len(row)\n",
    "    else:\n",
    "        return 0\n",
    "    \n",
    "def remove_duplicated_list(row):\n",
    "    after_row = list(set(row))\n",
    "    return after_row\n",
    "\n",
    "def extract_year(row):\n",
    "    return row.split('.')[0]"
   ]
  },
  {
   "cell_type": "code",
   "execution_count": 77,
   "metadata": {},
   "outputs": [
    {
     "data": {
      "text/html": [
       "<div>\n",
       "<style scoped>\n",
       "    .dataframe tbody tr th:only-of-type {\n",
       "        vertical-align: middle;\n",
       "    }\n",
       "\n",
       "    .dataframe tbody tr th {\n",
       "        vertical-align: top;\n",
       "    }\n",
       "\n",
       "    .dataframe thead th {\n",
       "        text-align: right;\n",
       "    }\n",
       "</style>\n",
       "<table border=\"1\" class=\"dataframe\">\n",
       "  <thead>\n",
       "    <tr style=\"text-align: right;\">\n",
       "      <th></th>\n",
       "      <th>번호</th>\n",
       "      <th>명칭</th>\n",
       "      <th>요약</th>\n",
       "      <th>출원일</th>\n",
       "      <th>출원인</th>\n",
       "      <th>독립 청구항수</th>\n",
       "      <th>전체 청구항수</th>\n",
       "      <th>국제특허분류</th>\n",
       "      <th>자국인용특허</th>\n",
       "      <th>외국인용특허</th>\n",
       "      <th>자국피인용특허</th>\n",
       "      <th>자국인용횟수</th>\n",
       "      <th>자국피인용횟수</th>\n",
       "      <th>특허평가등급</th>\n",
       "      <th>발명자수</th>\n",
       "      <th>발명자국가</th>\n",
       "      <th>출원인대표명</th>\n",
       "      <th>국가</th>\n",
       "      <th>연도</th>\n",
       "    </tr>\n",
       "  </thead>\n",
       "  <tbody>\n",
       "    <tr>\n",
       "      <th>0</th>\n",
       "      <td>KR20170166288A</td>\n",
       "      <td>가상 화폐 담보 대출 금융 기술 서비스 방법 및 그 장치{METHOD FOR VER...</td>\n",
       "      <td>가상 화폐 담보 대출 금융 기술 서비스 방법에서는 금융 기술 서비스 장치가 각 거래...</td>\n",
       "      <td>2017.12.05</td>\n",
       "      <td>김해동</td>\n",
       "      <td>8</td>\n",
       "      <td>8</td>\n",
       "      <td>G06Q-040/02, G06Q-020/36, G06Q-020/06</td>\n",
       "      <td>KR20110010207A,KR20170040727A,KR20170130049A</td>\n",
       "      <td>크립토코인 게시물,크립토코인 관련 20171112</td>\n",
       "      <td>KR20210083554A,KR20220049753A</td>\n",
       "      <td>3</td>\n",
       "      <td>2</td>\n",
       "      <td>A0</td>\n",
       "      <td>1</td>\n",
       "      <td>KR</td>\n",
       "      <td>김해동</td>\n",
       "      <td>KR</td>\n",
       "      <td>2017</td>\n",
       "    </tr>\n",
       "  </tbody>\n",
       "</table>\n",
       "</div>"
      ],
      "text/plain": [
       "               번호                                                 명칭  \\\n",
       "0  KR20170166288A  가상 화폐 담보 대출 금융 기술 서비스 방법 및 그 장치{METHOD FOR VER...   \n",
       "\n",
       "                                                  요약         출원일  출원인  \\\n",
       "0  가상 화폐 담보 대출 금융 기술 서비스 방법에서는 금융 기술 서비스 장치가 각 거래...  2017.12.05  김해동   \n",
       "\n",
       "   독립 청구항수  전체 청구항수                                 국제특허분류  \\\n",
       "0        8        8  G06Q-040/02, G06Q-020/36, G06Q-020/06   \n",
       "\n",
       "                                         자국인용특허                       외국인용특허  \\\n",
       "0  KR20110010207A,KR20170040727A,KR20170130049A  크립토코인 게시물,크립토코인 관련 20171112   \n",
       "\n",
       "                         자국피인용특허  자국인용횟수  자국피인용횟수 특허평가등급  발명자수 발명자국가 출원인대표명  \\\n",
       "0  KR20210083554A,KR20220049753A       3        2     A0     1    KR    김해동   \n",
       "\n",
       "   국가    연도  \n",
       "0  KR  2017  "
      ]
     },
     "execution_count": 77,
     "metadata": {},
     "output_type": "execute_result"
    }
   ],
   "source": [
    "# 새로운 컬럼들 생성\n",
    "# 1. 국가\n",
    "dataset.loc[dataset['번호'].str.contains('KR'),'국가'] = 'KR'\n",
    "dataset.loc[dataset['번호'].str.contains('US'),'국가'] = 'US'\n",
    "# 2. 연도\n",
    "dataset['연도'] = dataset['출원일'].apply(extract_year)\n",
    "\n",
    "dataset.head(1)"
   ]
  },
  {
   "cell_type": "code",
   "execution_count": 78,
   "metadata": {},
   "outputs": [],
   "source": [
    "dataset['국제특허분류'] = dataset['국제특허분류'].str.split(',')\n",
    "dataset['외국인용횟수'] = dataset['외국인용특허'].str.split(',')\n",
    "dataset['발명자국가'] = dataset['발명자국가'].str.split('|')"
   ]
  },
  {
   "cell_type": "code",
   "execution_count": 79,
   "metadata": {},
   "outputs": [],
   "source": [
    "dataset['국제특허분류'] = dataset['국제특허분류'].apply(change_ipc)\n",
    "dataset['외국인용횟수'] = dataset['외국인용횟수'].apply(count_len)\n",
    "dataset['발명자국가'] = dataset['발명자국가'].apply(remove_duplicated_list)"
   ]
  },
  {
   "cell_type": "code",
   "execution_count": 80,
   "metadata": {},
   "outputs": [
    {
     "data": {
      "text/html": [
       "<div>\n",
       "<style scoped>\n",
       "    .dataframe tbody tr th:only-of-type {\n",
       "        vertical-align: middle;\n",
       "    }\n",
       "\n",
       "    .dataframe tbody tr th {\n",
       "        vertical-align: top;\n",
       "    }\n",
       "\n",
       "    .dataframe thead th {\n",
       "        text-align: right;\n",
       "    }\n",
       "</style>\n",
       "<table border=\"1\" class=\"dataframe\">\n",
       "  <thead>\n",
       "    <tr style=\"text-align: right;\">\n",
       "      <th></th>\n",
       "      <th>번호</th>\n",
       "      <th>명칭</th>\n",
       "      <th>요약</th>\n",
       "      <th>출원일</th>\n",
       "      <th>출원인</th>\n",
       "      <th>독립 청구항수</th>\n",
       "      <th>전체 청구항수</th>\n",
       "      <th>국제특허분류</th>\n",
       "      <th>자국인용특허</th>\n",
       "      <th>외국인용특허</th>\n",
       "      <th>자국피인용특허</th>\n",
       "      <th>자국인용횟수</th>\n",
       "      <th>자국피인용횟수</th>\n",
       "      <th>특허평가등급</th>\n",
       "      <th>발명자수</th>\n",
       "      <th>발명자국가</th>\n",
       "      <th>출원인대표명</th>\n",
       "      <th>국가</th>\n",
       "      <th>연도</th>\n",
       "      <th>외국인용횟수</th>\n",
       "    </tr>\n",
       "  </thead>\n",
       "  <tbody>\n",
       "    <tr>\n",
       "      <th>535</th>\n",
       "      <td>KR20090004011U</td>\n",
       "      <td>전후 개폐가 가능한 가로등 단자함{That reorganization does av...</td>\n",
       "      <td>본 고안은 가로등주에 형성되어 가로등을 제어하는 장비의 모듈이 각각 삽입되면서 자유...</td>\n",
       "      <td>2009.04.07</td>\n",
       "      <td>유빈스 주식회사</td>\n",
       "      <td>1</td>\n",
       "      <td>4</td>\n",
       "      <td>[F21W31, E04H12, F21S8, H02G3]</td>\n",
       "      <td>KR0254299Y1,KR0430478Y1,KR0796449B1,KR20080001...</td>\n",
       "      <td>NaN</td>\n",
       "      <td>KR1436937B1,KR1442484B1,KR1558273B1,KR1704707B...</td>\n",
       "      <td>4</td>\n",
       "      <td>11</td>\n",
       "      <td>NaN</td>\n",
       "      <td>1</td>\n",
       "      <td>[KR]</td>\n",
       "      <td>NaN</td>\n",
       "      <td>KR</td>\n",
       "      <td>2009</td>\n",
       "      <td>0</td>\n",
       "    </tr>\n",
       "  </tbody>\n",
       "</table>\n",
       "</div>"
      ],
      "text/plain": [
       "                 번호                                                 명칭  \\\n",
       "535  KR20090004011U  전후 개폐가 가능한 가로등 단자함{That reorganization does av...   \n",
       "\n",
       "                                                    요약         출원일       출원인  \\\n",
       "535  본 고안은 가로등주에 형성되어 가로등을 제어하는 장비의 모듈이 각각 삽입되면서 자유...  2009.04.07  유빈스 주식회사   \n",
       "\n",
       "     독립 청구항수  전체 청구항수                          국제특허분류  \\\n",
       "535        1        4  [F21W31, E04H12, F21S8, H02G3]   \n",
       "\n",
       "                                                자국인용특허 외국인용특허  \\\n",
       "535  KR0254299Y1,KR0430478Y1,KR0796449B1,KR20080001...    NaN   \n",
       "\n",
       "                                               자국피인용특허  자국인용횟수  자국피인용횟수  \\\n",
       "535  KR1436937B1,KR1442484B1,KR1558273B1,KR1704707B...       4       11   \n",
       "\n",
       "    특허평가등급  발명자수 발명자국가 출원인대표명  국가    연도  외국인용횟수  \n",
       "535    NaN     1  [KR]    NaN  KR  2009       0  "
      ]
     },
     "execution_count": 80,
     "metadata": {},
     "output_type": "execute_result"
    }
   ],
   "source": [
    "dataset.tail(1)"
   ]
  },
  {
   "cell_type": "code",
   "execution_count": 81,
   "metadata": {},
   "outputs": [
    {
     "data": {
      "text/plain": [
       "['G06Q40', 'G06Q20']"
      ]
     },
     "execution_count": 81,
     "metadata": {},
     "output_type": "execute_result"
    }
   ],
   "source": [
    "dataset.iloc[0]['국제특허분류']"
   ]
  },
  {
   "cell_type": "code",
   "execution_count": 82,
   "metadata": {},
   "outputs": [],
   "source": [
    "dataset.to_csv(\"q5_dataset.csv\", mode='w')"
   ]
  },
  {
   "cell_type": "code",
   "execution_count": null,
   "metadata": {},
   "outputs": [],
   "source": []
  }
 ],
 "metadata": {
  "interpreter": {
   "hash": "6e5a0e6573fcec4e1981ab78867008ecf4004f0e9a9f44ccc1ad0bfe83da8575"
  },
  "kernelspec": {
   "display_name": "Python 3.6.13 ('patent')",
   "language": "python",
   "name": "python3"
  },
  "language_info": {
   "codemirror_mode": {
    "name": "ipython",
    "version": 3
   },
   "file_extension": ".py",
   "mimetype": "text/x-python",
   "name": "python",
   "nbconvert_exporter": "python",
   "pygments_lexer": "ipython3",
   "version": "3.6.13"
  },
  "orig_nbformat": 4
 },
 "nbformat": 4,
 "nbformat_minor": 2
}
