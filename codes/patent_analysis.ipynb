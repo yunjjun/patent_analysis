{
 "cells": [
  {
   "cell_type": "markdown",
   "metadata": {},
   "source": [
    "#### WISDOMAIN 데이터 기반 특허 분석 실습"
   ]
  },
  {
   "cell_type": "markdown",
   "metadata": {},
   "source": [
    "##### 1. 데이터 준비"
   ]
  },
  {
   "cell_type": "code",
   "execution_count": 61,
   "metadata": {},
   "outputs": [
    {
     "data": {
      "text/html": [
       "        <script type=\"text/javascript\">\n",
       "        window.PlotlyConfig = {MathJaxConfig: 'local'};\n",
       "        if (window.MathJax && window.MathJax.Hub && window.MathJax.Hub.Config) {window.MathJax.Hub.Config({SVG: {font: \"STIX-Web\"}});}\n",
       "        if (typeof require !== 'undefined') {\n",
       "        require.undef(\"plotly\");\n",
       "        requirejs.config({\n",
       "            paths: {\n",
       "                'plotly': ['https://cdn.plot.ly/plotly-2.12.1.min']\n",
       "            }\n",
       "        });\n",
       "        require(['plotly'], function(Plotly) {\n",
       "            window._Plotly = Plotly;\n",
       "        });\n",
       "        }\n",
       "        </script>\n",
       "        "
      ]
     },
     "metadata": {},
     "output_type": "display_data"
    }
   ],
   "source": [
    "import numpy as np # linear algebra\n",
    "import pandas as pd # data processing, CSV file I/O (e.g. pd.read_csv)\n",
    "import seaborn as sns\n",
    "import matplotlib.pyplot as plt\n",
    "%matplotlib inline\n",
    "\n",
    "# Import statements required for Plotly \n",
    "import plotly.offline as py\n",
    "py.init_notebook_mode(connected=True)\n",
    "import plotly.graph_objs as go\n",
    "import plotly.tools as tls\n",
    "\n",
    "# Import and suppress warnings\n",
    "import warnings\n",
    "warnings.filterwarnings('ignore')"
   ]
  },
  {
   "cell_type": "code",
   "execution_count": 62,
   "metadata": {},
   "outputs": [
    {
     "data": {
      "text/html": [
       "<div>\n",
       "<style scoped>\n",
       "    .dataframe tbody tr th:only-of-type {\n",
       "        vertical-align: middle;\n",
       "    }\n",
       "\n",
       "    .dataframe tbody tr th {\n",
       "        vertical-align: top;\n",
       "    }\n",
       "\n",
       "    .dataframe thead th {\n",
       "        text-align: right;\n",
       "    }\n",
       "</style>\n",
       "<table border=\"1\" class=\"dataframe\">\n",
       "  <thead>\n",
       "    <tr style=\"text-align: right;\">\n",
       "      <th></th>\n",
       "      <th>번호</th>\n",
       "      <th>명칭</th>\n",
       "      <th>요약</th>\n",
       "      <th>등록일</th>\n",
       "      <th>출원인</th>\n",
       "      <th>출원인국가</th>\n",
       "      <th>독립 청구항수</th>\n",
       "      <th>전체 청구항수</th>\n",
       "      <th>명칭(원문)</th>\n",
       "      <th>요약(원문)</th>\n",
       "      <th>...</th>\n",
       "      <th>통상실시권자</th>\n",
       "      <th>발명자국가</th>\n",
       "      <th>공통특허분류</th>\n",
       "      <th>미국특허분류</th>\n",
       "      <th>소유권이전여부</th>\n",
       "      <th>소유권최종양도일</th>\n",
       "      <th>현재소유자</th>\n",
       "      <th>권리 현황</th>\n",
       "      <th>최종 상태</th>\n",
       "      <th>권리만료예상일</th>\n",
       "    </tr>\n",
       "  </thead>\n",
       "  <tbody>\n",
       "    <tr>\n",
       "      <th>0</th>\n",
       "      <td>US9607236</td>\n",
       "      <td>Method and apparatus for providing loan verifi...</td>\n",
       "      <td>Some aspects of the invention relate to a mobi...</td>\n",
       "      <td>2017.03.28</td>\n",
       "      <td>Blinker, Inc.</td>\n",
       "      <td>US</td>\n",
       "      <td>5.0</td>\n",
       "      <td>30</td>\n",
       "      <td>NaN</td>\n",
       "      <td>NaN</td>\n",
       "      <td>...</td>\n",
       "      <td>NaN</td>\n",
       "      <td>US|US|US</td>\n",
       "      <td>G06V20/63, G06Q40/025, G06T11/60, G06V10/267, ...</td>\n",
       "      <td>001/001</td>\n",
       "      <td>N</td>\n",
       "      <td>NaN</td>\n",
       "      <td>BLINKER INC</td>\n",
       "      <td>Alive</td>\n",
       "      <td>Alive</td>\n",
       "      <td>2034.06.27</td>\n",
       "    </tr>\n",
       "  </tbody>\n",
       "</table>\n",
       "<p>1 rows × 32 columns</p>\n",
       "</div>"
      ],
      "text/plain": [
       "          번호                                                 명칭  \\\n",
       "0  US9607236  Method and apparatus for providing loan verifi...   \n",
       "\n",
       "                                                  요약         등록일  \\\n",
       "0  Some aspects of the invention relate to a mobi...  2017.03.28   \n",
       "\n",
       "             출원인 출원인국가  독립 청구항수  전체 청구항수  명칭(원문)  요약(원문)  ... 통상실시권자  \\\n",
       "0  Blinker, Inc.    US      5.0       30     NaN     NaN  ...    NaN   \n",
       "\n",
       "      발명자국가                                             공통특허분류   미국특허분류  \\\n",
       "0  US|US|US  G06V20/63, G06Q40/025, G06T11/60, G06V10/267, ...  001/001   \n",
       "\n",
       "   소유권이전여부  소유권최종양도일        현재소유자  권리 현황  최종 상태     권리만료예상일  \n",
       "0        N       NaN  BLINKER INC  Alive  Alive  2034.06.27  \n",
       "\n",
       "[1 rows x 32 columns]"
      ]
     },
     "execution_count": 62,
     "metadata": {},
     "output_type": "execute_result"
    }
   ],
   "source": [
    "# WISDOMAIN 원본 데이터 확인\n",
    "rawdata = pd.read_csv('../data/rawdata_q2_2.csv')\n",
    "rawdata.head(1)"
   ]
  },
  {
   "cell_type": "code",
   "execution_count": 63,
   "metadata": {},
   "outputs": [
    {
     "data": {
      "text/plain": [
       "Index(['번호', '명칭', '요약', '등록일', '출원인', '출원인국가', '독립 청구항수', '전체 청구항수', '명칭(원문)',\n",
       "       '요약(원문)', '국제특허분류', '자국인용특허', '외국인용특허', '자국피인용특허', '자국인용횟수', '자국피인용횟수',\n",
       "       '특허평가등급', '발명자수', '발명자', '출원인대표명', '출원인주소', '전용실시권자', '통상실시권자', '발명자국가',\n",
       "       '공통특허분류', '미국특허분류', '소유권이전여부', '소유권최종양도일', '현재소유자', '권리 현황', '최종 상태',\n",
       "       '권리만료예상일'],\n",
       "      dtype='object')"
      ]
     },
     "execution_count": 63,
     "metadata": {},
     "output_type": "execute_result"
    }
   ],
   "source": [
    "# 컬럼명 확인\n",
    "rawdata.columns"
   ]
  },
  {
   "cell_type": "code",
   "execution_count": 64,
   "metadata": {},
   "outputs": [
    {
     "name": "stdout",
     "output_type": "stream",
     "text": [
      "<class 'pandas.core.frame.DataFrame'>\n",
      "RangeIndex: 839 entries, 0 to 838\n",
      "Data columns (total 17 columns):\n",
      " #   Column   Non-Null Count  Dtype  \n",
      "---  ------   --------------  -----  \n",
      " 0   번호       839 non-null    object \n",
      " 1   명칭       839 non-null    object \n",
      " 2   요약       839 non-null    object \n",
      " 3   등록일      392 non-null    object \n",
      " 4   출원인      735 non-null    object \n",
      " 5   독립 청구항수  838 non-null    float64\n",
      " 6   전체 청구항수  839 non-null    int64  \n",
      " 7   국제특허분류   839 non-null    object \n",
      " 8   자국인용특허   458 non-null    object \n",
      " 9   외국인용특허   150 non-null    object \n",
      " 10  자국피인용특허  219 non-null    object \n",
      " 11  자국인용횟수   510 non-null    float64\n",
      " 12  자국피인용횟수  510 non-null    float64\n",
      " 13  특허평가등급   382 non-null    object \n",
      " 14  발명자수     839 non-null    int64  \n",
      " 15  발명자국가    839 non-null    object \n",
      " 16  출원인대표명   735 non-null    object \n",
      "dtypes: float64(3), int64(2), object(12)\n",
      "memory usage: 111.6+ KB\n",
      "None\n"
     ]
    }
   ],
   "source": [
    "# 필요한 컬럼들 정의\n",
    "target_cols = ['번호','명칭','요약','등록일','출원인','독립 청구항수','전체 청구항수',\n",
    "               '국제특허분류','자국인용특허', '외국인용특허', '자국피인용특허', '자국인용횟수', \n",
    "               '자국피인용횟수','특허평가등급', '발명자수','발명자국가','출원인대표명']\n",
    "dataset = rawdata[target_cols]\n",
    "print(dataset.info())"
   ]
  },
  {
   "cell_type": "code",
   "execution_count": 65,
   "metadata": {},
   "outputs": [],
   "source": [
    "# 연도가 없는 데이터 삭제\n",
    "dataset.dropna(subset = [\"등록일\"], inplace=True)"
   ]
  },
  {
   "cell_type": "code",
   "execution_count": 66,
   "metadata": {},
   "outputs": [
    {
     "name": "stdout",
     "output_type": "stream",
     "text": [
      "<class 'pandas.core.frame.DataFrame'>\n",
      "Int64Index: 392 entries, 0 to 394\n",
      "Data columns (total 17 columns):\n",
      " #   Column   Non-Null Count  Dtype  \n",
      "---  ------   --------------  -----  \n",
      " 0   번호       392 non-null    object \n",
      " 1   명칭       392 non-null    object \n",
      " 2   요약       392 non-null    object \n",
      " 3   등록일      392 non-null    object \n",
      " 4   출원인      375 non-null    object \n",
      " 5   독립 청구항수  392 non-null    float64\n",
      " 6   전체 청구항수  392 non-null    int64  \n",
      " 7   국제특허분류   392 non-null    object \n",
      " 8   자국인용특허   333 non-null    object \n",
      " 9   외국인용특허   112 non-null    object \n",
      " 10  자국피인용특허  147 non-null    object \n",
      " 11  자국인용횟수   333 non-null    float64\n",
      " 12  자국피인용횟수  333 non-null    float64\n",
      " 13  특허평가등급   382 non-null    object \n",
      " 14  발명자수     392 non-null    int64  \n",
      " 15  발명자국가    392 non-null    object \n",
      " 16  출원인대표명   375 non-null    object \n",
      "dtypes: float64(3), int64(2), object(12)\n",
      "memory usage: 55.1+ KB\n",
      "None\n"
     ]
    }
   ],
   "source": [
    "print(dataset.info())"
   ]
  },
  {
   "cell_type": "code",
   "execution_count": 67,
   "metadata": {},
   "outputs": [],
   "source": [
    "def change_ipc(row):\n",
    "    ipcs = [ipc.split('/')[0].split('-') for ipc in [item.strip() for item in row]]\n",
    "    ipcs_revised = list(set([f\"{each_ipc[0]}{each_ipc[1].replace('0','')}\" for each_ipc in ipcs]))\n",
    "    return ipcs_revised\n",
    "\n",
    "def count_len(row):\n",
    "    if type(row) == list:\n",
    "        return len(row)\n",
    "    else:\n",
    "        return 0\n",
    "    \n",
    "def remove_duplicated_list(row):\n",
    "    after_row = list(set(row))\n",
    "    return after_row\n",
    "\n",
    "def extract_year(row):\n",
    "    return row.split('.')[0]"
   ]
  },
  {
   "cell_type": "code",
   "execution_count": 68,
   "metadata": {},
   "outputs": [
    {
     "data": {
      "text/html": [
       "<div>\n",
       "<style scoped>\n",
       "    .dataframe tbody tr th:only-of-type {\n",
       "        vertical-align: middle;\n",
       "    }\n",
       "\n",
       "    .dataframe tbody tr th {\n",
       "        vertical-align: top;\n",
       "    }\n",
       "\n",
       "    .dataframe thead th {\n",
       "        text-align: right;\n",
       "    }\n",
       "</style>\n",
       "<table border=\"1\" class=\"dataframe\">\n",
       "  <thead>\n",
       "    <tr style=\"text-align: right;\">\n",
       "      <th></th>\n",
       "      <th>번호</th>\n",
       "      <th>명칭</th>\n",
       "      <th>요약</th>\n",
       "      <th>등록일</th>\n",
       "      <th>출원인</th>\n",
       "      <th>독립 청구항수</th>\n",
       "      <th>전체 청구항수</th>\n",
       "      <th>국제특허분류</th>\n",
       "      <th>자국인용특허</th>\n",
       "      <th>외국인용특허</th>\n",
       "      <th>자국피인용특허</th>\n",
       "      <th>자국인용횟수</th>\n",
       "      <th>자국피인용횟수</th>\n",
       "      <th>특허평가등급</th>\n",
       "      <th>발명자수</th>\n",
       "      <th>발명자국가</th>\n",
       "      <th>출원인대표명</th>\n",
       "      <th>국가</th>\n",
       "      <th>연도</th>\n",
       "    </tr>\n",
       "  </thead>\n",
       "  <tbody>\n",
       "    <tr>\n",
       "      <th>0</th>\n",
       "      <td>US9607236</td>\n",
       "      <td>Method and apparatus for providing loan verifi...</td>\n",
       "      <td>Some aspects of the invention relate to a mobi...</td>\n",
       "      <td>2017.03.28</td>\n",
       "      <td>Blinker, Inc.</td>\n",
       "      <td>5.0</td>\n",
       "      <td>30</td>\n",
       "      <td>G06K-009/00, G06K-009/32, G06T-011/60, G06Q-04...</td>\n",
       "      <td>US3544771,US3550084,US5227803,US5579008,US5579...</td>\n",
       "      <td>CN103985256,CN204303027,HU03002998,JP10134219,...</td>\n",
       "      <td>US9888235,US9990726,US10445873,US10515285,US10...</td>\n",
       "      <td>593.0</td>\n",
       "      <td>17.0</td>\n",
       "      <td>A+</td>\n",
       "      <td>3</td>\n",
       "      <td>US|US|US</td>\n",
       "      <td>BLINKER INC</td>\n",
       "      <td>US</td>\n",
       "      <td>2017</td>\n",
       "    </tr>\n",
       "  </tbody>\n",
       "</table>\n",
       "</div>"
      ],
      "text/plain": [
       "          번호                                                 명칭  \\\n",
       "0  US9607236  Method and apparatus for providing loan verifi...   \n",
       "\n",
       "                                                  요약         등록일  \\\n",
       "0  Some aspects of the invention relate to a mobi...  2017.03.28   \n",
       "\n",
       "             출원인  독립 청구항수  전체 청구항수  \\\n",
       "0  Blinker, Inc.      5.0       30   \n",
       "\n",
       "                                              국제특허분류  \\\n",
       "0  G06K-009/00, G06K-009/32, G06T-011/60, G06Q-04...   \n",
       "\n",
       "                                              자국인용특허  \\\n",
       "0  US3544771,US3550084,US5227803,US5579008,US5579...   \n",
       "\n",
       "                                              외국인용특허  \\\n",
       "0  CN103985256,CN204303027,HU03002998,JP10134219,...   \n",
       "\n",
       "                                             자국피인용특허  자국인용횟수  자국피인용횟수 특허평가등급  \\\n",
       "0  US9888235,US9990726,US10445873,US10515285,US10...   593.0     17.0     A+   \n",
       "\n",
       "   발명자수     발명자국가       출원인대표명  국가    연도  \n",
       "0     3  US|US|US  BLINKER INC  US  2017  "
      ]
     },
     "execution_count": 68,
     "metadata": {},
     "output_type": "execute_result"
    }
   ],
   "source": [
    "# 새로운 컬럼들 생성\n",
    "# 1. 국가\n",
    "dataset.loc[dataset['번호'].str.contains('KR'),'국가'] = 'KR'\n",
    "dataset.loc[dataset['번호'].str.contains('US'),'국가'] = 'US'\n",
    "# 2. 연도\n",
    "dataset['연도'] = dataset['등록일'].apply(extract_year)\n",
    "\n",
    "dataset.head(1)"
   ]
  },
  {
   "cell_type": "code",
   "execution_count": 69,
   "metadata": {},
   "outputs": [],
   "source": [
    "dataset['국제특허분류'] = dataset['국제특허분류'].str.split(',')\n",
    "dataset['외국인용횟수'] = dataset['외국인용특허'].str.split(',')\n",
    "dataset['발명자국가'] = dataset['발명자국가'].str.split('|')"
   ]
  },
  {
   "cell_type": "code",
   "execution_count": 70,
   "metadata": {},
   "outputs": [],
   "source": [
    "dataset['국제특허분류'] = dataset['국제특허분류'].apply(change_ipc)\n",
    "dataset['외국인용횟수'] = dataset['외국인용횟수'].apply(count_len)\n",
    "dataset['발명자국가'] = dataset['발명자국가'].apply(remove_duplicated_list)"
   ]
  },
  {
   "cell_type": "code",
   "execution_count": 71,
   "metadata": {},
   "outputs": [
    {
     "data": {
      "text/html": [
       "<div>\n",
       "<style scoped>\n",
       "    .dataframe tbody tr th:only-of-type {\n",
       "        vertical-align: middle;\n",
       "    }\n",
       "\n",
       "    .dataframe tbody tr th {\n",
       "        vertical-align: top;\n",
       "    }\n",
       "\n",
       "    .dataframe thead th {\n",
       "        text-align: right;\n",
       "    }\n",
       "</style>\n",
       "<table border=\"1\" class=\"dataframe\">\n",
       "  <thead>\n",
       "    <tr style=\"text-align: right;\">\n",
       "      <th></th>\n",
       "      <th>번호</th>\n",
       "      <th>명칭</th>\n",
       "      <th>요약</th>\n",
       "      <th>등록일</th>\n",
       "      <th>출원인</th>\n",
       "      <th>독립 청구항수</th>\n",
       "      <th>전체 청구항수</th>\n",
       "      <th>국제특허분류</th>\n",
       "      <th>자국인용특허</th>\n",
       "      <th>외국인용특허</th>\n",
       "      <th>자국피인용특허</th>\n",
       "      <th>자국인용횟수</th>\n",
       "      <th>자국피인용횟수</th>\n",
       "      <th>특허평가등급</th>\n",
       "      <th>발명자수</th>\n",
       "      <th>발명자국가</th>\n",
       "      <th>출원인대표명</th>\n",
       "      <th>국가</th>\n",
       "      <th>연도</th>\n",
       "      <th>외국인용횟수</th>\n",
       "    </tr>\n",
       "  </thead>\n",
       "  <tbody>\n",
       "    <tr>\n",
       "      <th>0</th>\n",
       "      <td>US9607236</td>\n",
       "      <td>Method and apparatus for providing loan verifi...</td>\n",
       "      <td>Some aspects of the invention relate to a mobi...</td>\n",
       "      <td>2017.03.28</td>\n",
       "      <td>Blinker, Inc.</td>\n",
       "      <td>5.0</td>\n",
       "      <td>30</td>\n",
       "      <td>[G06K9, G06T11, G06Q4]</td>\n",
       "      <td>US3544771,US3550084,US5227803,US5579008,US5579...</td>\n",
       "      <td>CN103985256,CN204303027,HU03002998,JP10134219,...</td>\n",
       "      <td>US9888235,US9990726,US10445873,US10515285,US10...</td>\n",
       "      <td>593.0</td>\n",
       "      <td>17.0</td>\n",
       "      <td>A+</td>\n",
       "      <td>3</td>\n",
       "      <td>[US]</td>\n",
       "      <td>BLINKER INC</td>\n",
       "      <td>US</td>\n",
       "      <td>2017</td>\n",
       "      <td>12</td>\n",
       "    </tr>\n",
       "  </tbody>\n",
       "</table>\n",
       "</div>"
      ],
      "text/plain": [
       "          번호                                                 명칭  \\\n",
       "0  US9607236  Method and apparatus for providing loan verifi...   \n",
       "\n",
       "                                                  요약         등록일  \\\n",
       "0  Some aspects of the invention relate to a mobi...  2017.03.28   \n",
       "\n",
       "             출원인  독립 청구항수  전체 청구항수                  국제특허분류  \\\n",
       "0  Blinker, Inc.      5.0       30  [G06K9, G06T11, G06Q4]   \n",
       "\n",
       "                                              자국인용특허  \\\n",
       "0  US3544771,US3550084,US5227803,US5579008,US5579...   \n",
       "\n",
       "                                              외국인용특허  \\\n",
       "0  CN103985256,CN204303027,HU03002998,JP10134219,...   \n",
       "\n",
       "                                             자국피인용특허  자국인용횟수  자국피인용횟수 특허평가등급  \\\n",
       "0  US9888235,US9990726,US10445873,US10515285,US10...   593.0     17.0     A+   \n",
       "\n",
       "   발명자수 발명자국가       출원인대표명  국가    연도  외국인용횟수  \n",
       "0     3  [US]  BLINKER INC  US  2017      12  "
      ]
     },
     "execution_count": 71,
     "metadata": {},
     "output_type": "execute_result"
    }
   ],
   "source": [
    "dataset.head(1)"
   ]
  },
  {
   "cell_type": "code",
   "execution_count": 72,
   "metadata": {},
   "outputs": [
    {
     "data": {
      "text/plain": [
       "['G06K9', 'G06T11', 'G06Q4']"
      ]
     },
     "execution_count": 72,
     "metadata": {},
     "output_type": "execute_result"
    }
   ],
   "source": [
    "dataset.iloc[0]['국제특허분류']"
   ]
  },
  {
   "cell_type": "code",
   "execution_count": null,
   "metadata": {},
   "outputs": [],
   "source": []
  }
 ],
 "metadata": {
  "interpreter": {
   "hash": "6e5a0e6573fcec4e1981ab78867008ecf4004f0e9a9f44ccc1ad0bfe83da8575"
  },
  "kernelspec": {
   "display_name": "Python 3.6.13 ('patent')",
   "language": "python",
   "name": "python3"
  },
  "language_info": {
   "codemirror_mode": {
    "name": "ipython",
    "version": 3
   },
   "file_extension": ".py",
   "mimetype": "text/x-python",
   "name": "python",
   "nbconvert_exporter": "python",
   "pygments_lexer": "ipython3",
   "version": "3.6.13"
  },
  "orig_nbformat": 4
 },
 "nbformat": 4,
 "nbformat_minor": 2
}
